{
 "cells": [
  {
   "cell_type": "markdown",
   "id": "0a573fe8-259a-4ba7-9604-84e8c84cb0ea",
   "metadata": {},
   "source": [
    "# Date Science Tools and Ecosystem"
   ]
  },
  {
   "cell_type": "markdown",
   "id": "376900a9-fb8f-401b-91b0-2b105c86a6b8",
   "metadata": {},
   "source": [
    "## Author\n",
    "Andrew Katan"
   ]
  },
  {
   "cell_type": "markdown",
   "id": "57272f3b-5a69-4d5c-9fc1-e8f92752e732",
   "metadata": {},
   "source": [
    "In this notebook, Data Science Tools and Ecosystems are summarized.  "
   ]
  },
  {
   "cell_type": "markdown",
   "id": "ccaaad18-681c-4837-a62d-d5459dbb381d",
   "metadata": {},
   "source": [
    "**Objectives:**\n",
    "- Identify popular languages in data science\n",
    "- Identify commonly used libraries in data science\n",
    "- Use markdowns to create a table\n",
    "- Practice evaluating mathematical expressions in code cells\n"
   ]
  },
  {
   "cell_type": "markdown",
   "id": "5228624f-50a1-4ee0-adad-f397d8aa9186",
   "metadata": {},
   "source": [
    "Some of the popular languages that Data Scientists use are:\n",
    "\n",
    "1. R\n",
    "2. Python\n",
    "3. Julia\n",
    "4. SQL"
   ]
  },
  {
   "cell_type": "markdown",
   "id": "90045ecd-7f45-4949-a275-8c0672f8e54a",
   "metadata": {},
   "source": [
    "Some of the commonly used libraries used by Data Scientists include:\n",
    "\n",
    "1. Pandas\n",
    "2. NumPy\n",
    "3. Scikit-learn\n",
    "4. ggplot2"
   ]
  },
  {
   "cell_type": "markdown",
   "id": "3cc578da-17b6-480b-98b7-83dd6c9e46f0",
   "metadata": {},
   "source": [
    "|Data Science Tools|\n",
    "|------------------|\n",
    "|JupyterLyte|\n",
    "|Visual Studio Code|\n",
    "|Anaconda|\n"
   ]
  },
  {
   "cell_type": "markdown",
   "id": "f766e2cf-ef3e-456f-841e-3ca92ee01937",
   "metadata": {},
   "source": [
    "Below are a few examples of evaluating arithmetic expressions on Python"
   ]
  },
  {
   "cell_type": "code",
   "execution_count": 1,
   "id": "699e964d-702b-411f-ad38-a3d666c7657e",
   "metadata": {
    "tags": []
   },
   "outputs": [
    {
     "data": {
      "text/plain": [
       "17"
      ]
     },
     "execution_count": 1,
     "metadata": {},
     "output_type": "execute_result"
    }
   ],
   "source": [
    "# This is a symple arithmetic expression to multiply then add integers\n",
    "(3*4)+5"
   ]
  },
  {
   "cell_type": "code",
   "execution_count": 3,
   "id": "8d6528a4-7713-445c-99a5-f2a3815acf69",
   "metadata": {
    "tags": []
   },
   "outputs": [
    {
     "name": "stdout",
     "output_type": "stream",
     "text": [
      "200 minutes is  3.3333333333333335  hours\n"
     ]
    }
   ],
   "source": [
    "# This will convert 200 minutes to hours by diving by 60\n",
    "hours = 200/60\n",
    "print(\"200 minutes is \",hours,\" hours\")"
   ]
  },
  {
   "cell_type": "code",
   "execution_count": null,
   "id": "8cca7b48-1d74-4300-99fc-08a3f7e8be5a",
   "metadata": {},
   "outputs": [],
   "source": []
  }
 ],
 "metadata": {
  "kernelspec": {
   "display_name": "Python",
   "language": "python",
   "name": "conda-env-python-py"
  },
  "language_info": {
   "codemirror_mode": {
    "name": "ipython",
    "version": 3
   },
   "file_extension": ".py",
   "mimetype": "text/x-python",
   "name": "python",
   "nbconvert_exporter": "python",
   "pygments_lexer": "ipython3",
   "version": "3.7.12"
  }
 },
 "nbformat": 4,
 "nbformat_minor": 5
}
